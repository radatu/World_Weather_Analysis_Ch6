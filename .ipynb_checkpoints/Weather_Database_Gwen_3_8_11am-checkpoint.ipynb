{
 "cells": [
  {
   "cell_type": "markdown",
   "metadata": {},
   "source": [
    "# Deliverable 1. Retrieve Weather Data.\n",
    "---\n",
    "1. Create a folder called `Weather_Database` to save all the files related with this deliverable.\n",
    "\n",
    "2. Save the `Weather_Database_starter_code.ipynb` starter code to the `Weather_Database` folder and rename it as `Weather_Database.ipynb`.\n",
    "\n",
    "3. Use the `np.random.uniform` function to generate a new set of 2,000 random latitudes and 2,000 longitudes.\n",
    "\n",
    "4. Use the `citipy` module to get the nearest city for each latitude and longitude combination.\n",
    "\n",
    "5. Import your OpenWeatherMap's API key and assemble the API call URL as a string variable. Recall to edit the `config.py` file to add your API key; also, it's critical to avoid publishing your API key on your GitHub repository.\n",
    "\n",
    "6. Retrieve the following information from the API call:\n",
    "\n",
    "    * Latitude and longitude\n",
    "\n",
    "    * Maximum temperature\n",
    "\n",
    "    * Percent humidity\n",
    "\n",
    "    * Percent cloudiness\n",
    "\n",
    "    * Wind speed\n",
    "\n",
    "    * Weather description (for example, clouds, fog, light rain, clear sky)\n",
    "\n",
    "7. Add the weather data to a new DataFrame.\n",
    "\n",
    "8. Export the DataFrame as a CSV file, and save it as `WeatherPy_Database.csv` in the `Weather_Database` folder.\n",
    "---"
   ]
  },
  {
   "cell_type": "code",
   "execution_count": 1,
   "metadata": {},
   "outputs": [],
   "source": [
    "# Import initial libraries\n",
    "import numpy as np\n",
    "import pandas as pd\n",
    "from citipy import citipy"
   ]
  },
  {
   "cell_type": "markdown",
   "metadata": {},
   "source": [
    "## Use the `np.random.uniform` function to generate a new set of 2,000 random latitudes and 2,000 longitudes."
   ]
  },
  {
   "cell_type": "code",
   "execution_count": 2,
   "metadata": {},
   "outputs": [],
   "source": [
    "# Create a set of random latitude and longitude combinations\n",
    "lats = np.random.uniform(-90,90,10)\n",
    "lngs = np.random.uniform(-180,180,10)\n",
    "\n",
    "# Use the zip function to create an iterator of tuples containing the latitude and longitude combinations\n",
    "lat_lngs = zip(lats,lngs)\n"
   ]
  },
  {
   "cell_type": "code",
   "execution_count": 3,
   "metadata": {},
   "outputs": [
    {
     "data": {
      "text/plain": [
       "[(13.518072488533832, -161.34901269566555),\n",
       " (19.55660202868728, 165.80054859570106),\n",
       " (48.17009215393239, 136.06755884927514),\n",
       " (-19.724088684134216, -57.75759288285346),\n",
       " (83.12491620591842, -14.559218878502975),\n",
       " (-27.812538943694882, 164.312652163162),\n",
       " (36.166631617125205, 174.56399005200973),\n",
       " (-17.65015847087028, 24.122461758766406),\n",
       " (-20.60469383582688, 142.0263046388106),\n",
       " (85.7680190417031, 127.62963407000956)]"
      ]
     },
     "execution_count": 3,
     "metadata": {},
     "output_type": "execute_result"
    }
   ],
   "source": [
    "# Add the latitudes and longitudes to a list\n",
    "coordinates=list(lat_lngs)\n",
    "coordinates"
   ]
  },
  {
   "cell_type": "markdown",
   "metadata": {},
   "source": [
    "## Use the `citipy` module to get the nearest city for each latitude and longitude combination."
   ]
  },
  {
   "cell_type": "code",
   "execution_count": 4,
   "metadata": {},
   "outputs": [
    {
     "name": "stdout",
     "output_type": "stream",
     "text": [
      "<class 'citipy.citipy.City'>\n",
      "makakilo city us\n",
      "<class 'citipy.citipy.City'>\n",
      "butaritari ki\n",
      "<class 'citipy.citipy.City'>\n",
      "mukhen ru\n",
      "<class 'citipy.citipy.City'>\n",
      "corumba br\n",
      "<class 'citipy.citipy.City'>\n",
      "illoqqortoormiut gl\n",
      "<class 'citipy.citipy.City'>\n",
      "noumea nc\n",
      "<class 'citipy.citipy.City'>\n",
      "nikolskoye ru\n",
      "<class 'citipy.citipy.City'>\n",
      "katima mulilo na\n",
      "<class 'citipy.citipy.City'>\n",
      "mount isa au\n",
      "<class 'citipy.citipy.City'>\n",
      "tiksi ru\n",
      "10\n"
     ]
    }
   ],
   "source": [
    "# Create an empty list for holding the cities\n",
    "cities = []\n",
    "\n",
    "# Use a for loop to identify nearest city for each latitude and longitude combination using the citipy module\n",
    "for coordinate in coordinates:\n",
    "    # Use the citipy module to identify the nearest city, country to the current coordinate\n",
    "    city = citipy.nearest_city(coordinate[0],coordinate[1]) \n",
    "    print(type(city))\n",
    "    print(city.city_name, city.country_code)\n",
    "    # If the city is unique, then add it to a our cities list\n",
    "    if city.city_name not in cities:\n",
    "        cities.append(city)\n",
    "\n",
    "# Print the city count to confirm sufficient count\n",
    "print(len(cities))"
   ]
  },
  {
   "cell_type": "markdown",
   "metadata": {},
   "source": [
    "## Import your OpenWeatherMap's API key and assemble the API call URL as a string variable. Recall to edit the `config.py` file to add your API key."
   ]
  },
  {
   "cell_type": "code",
   "execution_count": 5,
   "metadata": {},
   "outputs": [],
   "source": [
    "# Import the requests library\n",
    "import requests\n",
    "\n",
    "# Import the time library\n",
    "import time\n",
    "\n",
    "# Import the datetime module from the datetime library\n",
    "from datetime import datetime\n",
    "\n",
    "# Import the OpenWeatherMap's API key\n",
    "\n",
    "from config import weather_api_key"
   ]
  },
  {
   "cell_type": "code",
   "execution_count": 6,
   "metadata": {},
   "outputs": [],
   "source": [
    "# Assemble the OpenWeatherMap's API call\n",
    "# url = \"https://api.openweathermap.org/data/2.5/weather?q=London,uk&APPID=\"+weather_api_key\n",
    "url = \"https://api.openweathermap.org/data/2.5/weather?&APPID=\"+weather_api_key"
   ]
  },
  {
   "cell_type": "markdown",
   "metadata": {},
   "source": [
    "## Retrieve the following information from the API call.\n",
    "\n",
    "- The latitude and longitude\n",
    "- The Max temperature\n",
    "- The % humidity\n",
    "- The % cloudiness\n",
    "- The Wind speed\n",
    "- The Weather description, i.e., cloudy, fog, light rain, clear sky, etc. "
   ]
  },
  {
   "cell_type": "code",
   "execution_count": 19,
   "metadata": {},
   "outputs": [
    {
     "name": "stdout",
     "output_type": "stream",
     "text": [
      "Beginning Data Retrieval     \n",
      "-----------------------------\n",
      "https://api.openweathermap.org/data/2.5/weather?&APPID=492a5a3e5474d1017570fc55a90cc59e&q=makakilo+city,us\n",
      "Processing Record 1 of Set 1 | makakilo city,us\n",
      "Error in URL call to OpenWeather API. Skipping...\n",
      "{'coord': {'lon': -158.0858, 'lat': 21.3469}, 'weather': [{'id': 803, 'main': 'Clouds', 'description': 'broken clouds', 'icon': '04d'}], 'base': 'stations', 'main': {'temp': 298.53, 'feels_like': 298.66, 'temp_min': 297.58, 'temp_max': 299.33, 'pressure': 1009, 'humidity': 59}, 'visibility': 10000, 'wind': {'speed': 11.83, 'deg': 250, 'gust': 18.52}, 'clouds': {'all': 75}, 'dt': 1678314481, 'sys': {'type': 1, 'id': 7868, 'country': 'US', 'sunrise': 1678294035, 'sunset': 1678336755}, 'timezone': -36000, 'id': 5850554, 'name': 'Makakilo City', 'cod': 200}\n",
      "https://api.openweathermap.org/data/2.5/weather?&APPID=492a5a3e5474d1017570fc55a90cc59e&q=butaritari,ki\n",
      "Processing Record 2 of Set 1 | butaritari,ki\n",
      "Error in URL call to OpenWeather API. Skipping...\n",
      "{'coord': {'lon': 172.7902, 'lat': 3.0707}, 'weather': [{'id': 803, 'main': 'Clouds', 'description': 'broken clouds', 'icon': '04d'}], 'base': 'stations', 'main': {'temp': 300.15, 'feels_like': 302.61, 'temp_min': 300.15, 'temp_max': 300.15, 'pressure': 1013, 'humidity': 77, 'sea_level': 1013, 'grnd_level': 1012}, 'visibility': 10000, 'wind': {'speed': 4.82, 'deg': 92, 'gust': 5.21}, 'clouds': {'all': 74}, 'dt': 1678314298, 'sys': {'country': 'KI', 'sunrise': 1678300645, 'sunset': 1678344122}, 'timezone': 43200, 'id': 2110227, 'name': 'Butaritari', 'cod': 200}\n",
      "https://api.openweathermap.org/data/2.5/weather?&APPID=492a5a3e5474d1017570fc55a90cc59e&q=mukhen,ru\n",
      "Processing Record 3 of Set 1 | mukhen,ru\n",
      "Error in URL call to OpenWeather API. Skipping...\n",
      "{'coord': {'lon': 136.1, 'lat': 48.1}, 'weather': [{'id': 804, 'main': 'Clouds', 'description': 'overcast clouds', 'icon': '04d'}], 'base': 'stations', 'main': {'temp': 264.2, 'feels_like': 260.44, 'temp_min': 264.2, 'temp_max': 264.2, 'pressure': 1021, 'humidity': 83, 'sea_level': 1021, 'grnd_level': 1009}, 'visibility': 10000, 'wind': {'speed': 1.9, 'deg': 120, 'gust': 3.19}, 'clouds': {'all': 100}, 'dt': 1678314068, 'sys': {'country': 'RU', 'sunrise': 1678310566, 'sunset': 1678351809}, 'timezone': 36000, 'id': 2019718, 'name': 'Mukhen', 'cod': 200}\n",
      "https://api.openweathermap.org/data/2.5/weather?&APPID=492a5a3e5474d1017570fc55a90cc59e&q=corumba,br\n",
      "Processing Record 4 of Set 1 | corumba,br\n",
      "Error in URL call to OpenWeather API. Skipping...\n",
      "{'coord': {'lon': -57.6533, 'lat': -19.0092}, 'weather': [{'id': 804, 'main': 'Clouds', 'description': 'overcast clouds', 'icon': '04n'}], 'base': 'stations', 'main': {'temp': 300.2, 'feels_like': 302.26, 'temp_min': 300.2, 'temp_max': 300.2, 'pressure': 1006, 'humidity': 72, 'sea_level': 1006, 'grnd_level': 989}, 'visibility': 10000, 'wind': {'speed': 1.21, 'deg': 115, 'gust': 1.66}, 'clouds': {'all': 97}, 'dt': 1678314069, 'sys': {'country': 'BR', 'sunrise': 1678269074, 'sunset': 1678313517}, 'timezone': -14400, 'id': 3465342, 'name': 'Corumbá', 'cod': 200}\n",
      "https://api.openweathermap.org/data/2.5/weather?&APPID=492a5a3e5474d1017570fc55a90cc59e&q=illoqqortoormiut,gl\n",
      "Processing Record 5 of Set 1 | illoqqortoormiut,gl\n",
      "Error in URL call to OpenWeather API. Skipping...\n",
      "{'cod': '404', 'message': 'city not found'}\n",
      "https://api.openweathermap.org/data/2.5/weather?&APPID=492a5a3e5474d1017570fc55a90cc59e&q=noumea,nc\n",
      "Processing Record 6 of Set 1 | noumea,nc\n",
      "Error in URL call to OpenWeather API. Skipping...\n",
      "{'coord': {'lon': 166.4572, 'lat': -22.2763}, 'weather': [{'id': 802, 'main': 'Clouds', 'description': 'scattered clouds', 'icon': '03d'}], 'base': 'stations', 'main': {'temp': 301.48, 'feels_like': 308.48, 'temp_min': 301.14, 'temp_max': 301.48, 'pressure': 1013, 'humidity': 99}, 'visibility': 10000, 'wind': {'speed': 0.97, 'deg': 24, 'gust': 2.1}, 'clouds': {'all': 26}, 'dt': 1678314070, 'sys': {'type': 2, 'id': 2018998, 'country': 'NC', 'sunrise': 1678301614, 'sunset': 1678346192}, 'timezone': 39600, 'id': 2139521, 'name': 'Noumea', 'cod': 200}\n",
      "https://api.openweathermap.org/data/2.5/weather?&APPID=492a5a3e5474d1017570fc55a90cc59e&q=nikolskoye,ru\n",
      "Processing Record 7 of Set 1 | nikolskoye,ru\n",
      "Error in URL call to OpenWeather API. Skipping...\n",
      "{'coord': {'lon': 30.7861, 'lat': 59.7035}, 'weather': [{'id': 600, 'main': 'Snow', 'description': 'light snow', 'icon': '13n'}], 'base': 'stations', 'main': {'temp': 271.06, 'feels_like': 266.25, 'temp_min': 269.7, 'temp_max': 271.37, 'pressure': 983, 'humidity': 95, 'sea_level': 983, 'grnd_level': 979}, 'visibility': 270, 'wind': {'speed': 4.06, 'deg': 221, 'gust': 10.57}, 'snow': {'1h': 0.23}, 'clouds': {'all': 100}, 'dt': 1678314661, 'sys': {'type': 2, 'id': 47750, 'country': 'RU', 'sunrise': 1678336380, 'sunset': 1678376538}, 'timezone': 10800, 'id': 546105, 'name': 'Nikolskoye', 'cod': 200}\n",
      "https://api.openweathermap.org/data/2.5/weather?&APPID=492a5a3e5474d1017570fc55a90cc59e&q=katima+mulilo,na\n",
      "Processing Record 8 of Set 1 | katima mulilo,na\n",
      "Error in URL call to OpenWeather API. Skipping...\n",
      "{'coord': {'lon': 24.2667, 'lat': -17.5}, 'weather': [{'id': 500, 'main': 'Rain', 'description': 'light rain', 'icon': '10n'}], 'base': 'stations', 'main': {'temp': 294.08, 'feels_like': 294.47, 'temp_min': 294.08, 'temp_max': 294.08, 'pressure': 1010, 'humidity': 86, 'sea_level': 1010, 'grnd_level': 906}, 'visibility': 10000, 'wind': {'speed': 0.53, 'deg': 163, 'gust': 0.66}, 'rain': {'1h': 0.35}, 'clouds': {'all': 93}, 'dt': 1678314661, 'sys': {'country': 'NA', 'sunrise': 1678335861, 'sunset': 1678380185}, 'timezone': 7200, 'id': 877178, 'name': 'Katima Mulilo', 'cod': 200}\n",
      "https://api.openweathermap.org/data/2.5/weather?&APPID=492a5a3e5474d1017570fc55a90cc59e&q=mount+isa,au\n",
      "Processing Record 9 of Set 1 | mount isa,au\n",
      "Error in URL call to OpenWeather API. Skipping...\n",
      "{'coord': {'lon': 139.5, 'lat': -20.7333}, 'weather': [{'id': 500, 'main': 'Rain', 'description': 'light rain', 'icon': '10d'}], 'base': 'stations', 'main': {'temp': 293.02, 'feels_like': 293.67, 'temp_min': 293.02, 'temp_max': 293.02, 'pressure': 1007, 'humidity': 100}, 'visibility': 9000, 'wind': {'speed': 10.8, 'deg': 170, 'gust': 16.98}, 'rain': {'1h': 0.15}, 'clouds': {'all': 100}, 'dt': 1678314073, 'sys': {'type': 1, 'id': 9495, 'country': 'AU', 'sunrise': 1678308124, 'sunset': 1678352620}, 'timezone': 36000, 'id': 2065594, 'name': 'Mount Isa', 'cod': 200}\n",
      "https://api.openweathermap.org/data/2.5/weather?&APPID=492a5a3e5474d1017570fc55a90cc59e&q=tiksi,ru\n",
      "Processing Record 10 of Set 1 | tiksi,ru\n",
      "Error in URL call to OpenWeather API. Skipping...\n",
      "{'coord': {'lon': 128.8694, 'lat': 71.6872}, 'weather': [{'id': 803, 'main': 'Clouds', 'description': 'broken clouds', 'icon': '04n'}], 'base': 'stations', 'main': {'temp': 241.8, 'feels_like': 241.8, 'temp_min': 241.8, 'temp_max': 241.8, 'pressure': 1018, 'humidity': 94, 'sea_level': 1018, 'grnd_level': 1013}, 'visibility': 7305, 'wind': {'speed': 0.93, 'deg': 173, 'gust': 1.26}, 'clouds': {'all': 59}, 'dt': 1678314073, 'sys': {'country': 'RU', 'sunrise': 1678314164, 'sunset': 1678351682}, 'timezone': 32400, 'id': 2015306, 'name': 'Tiksi', 'cod': 200}\n",
      "-----------------------------\n",
      "Data Retrieval Complete      \n",
      "-----------------------------\n"
     ]
    }
   ],
   "source": [
    "# Create an empty list to hold weather data for each city\n",
    "city_data = []\n",
    "\n",
    "# Print a message to indicate that the data retrieval starts\n",
    "print(\"Beginning Data Retrieval     \")\n",
    "print(\"-----------------------------\")\n",
    "\n",
    "# Create counters and set them to 1\n",
    "record_count = 1\n",
    "set_count = 1\n",
    "\n",
    "# Loop through all the cities in our list to fetch weather data for each city\n",
    "# set loop counter to 0\n",
    "i = 0 \n",
    "for city in cities:      \n",
    "    # Group cities in sets of 50 for logging purposes\n",
    "    if (i % 50 == 0 and i >= 50):\n",
    "        set_count += 1\n",
    "        record_count = 1\n",
    "        time.sleep(60)\n",
    "   \n",
    "    # Create an endpoint URL for each city\n",
    "    city_url = url + \"&q=\" + city.city_name.replace(\" \",\"+\") + \",\" + city.country_code\n",
    "    print(city_url)\n",
    "    \n",
    "    # Log the url, record, and set numbers\n",
    "    print(f\"Processing Record {record_count} of Set {set_count} | {city.city_name},{city.country_code}\")\n",
    "\n",
    "    # Add 1 to the record count\n",
    "    record_count += 1\n",
    "    # # Create Python object from JSON string data\n",
    "    # obj = json.loads(json_data)\n",
    "\n",
    "    # Pretty Print JSON\n",
    "    # json_formatted_str = json.dumps(obj, indent=4)\n",
    "    # print(json_formatted_str)\n",
    "    # Run an API request for each of the cities\n",
    "    try:\n",
    "        city_weather = requests.get(city_url).json()\n",
    "        cty_wthr_dta = city_weather\n",
    "        # cty_wthr_dta = json.dumps(city_weather, indent=4)\n",
    "        \n",
    "       # Parse out the latitude, longitude, max temp, humidity, cloudiness, wind, country, and weather description\n",
    "        city_lat = cty_wthr_dta[\"coord\"][\"lat\"]\n",
    "        city_lng = cty_wthr_dta[\"coord\"][\"lon\"]\n",
    "        city_max_temp = cty_wthr_dta[\"main\"][\"temp_max\"]\n",
    "        city_humidity = cty_wthr_dta[\"main\"][\"humidity\"]\n",
    "        city_clouds = cty_wthr_dta[\"clouds\"][\"all\"]\n",
    "        city_wind = cty_wthr_dta[\"wind\"][\"speed\"]\n",
    "        city_country = cty_wthr_dta[\"sys\"][\"country\"]\n",
    "        city_description = cty_wthr_dta[\"weather\"][\"description\"]\n",
    "        print(city_description)\n",
    "        # Append into city_data list\n",
    "        city_data.append({\"City\": city.title(),\n",
    "                          \"Lat\": city_lat,\n",
    "                          \"Lng\": city_lng,\n",
    "                          \"Max Temp\": city_max_temp,\n",
    "                          \"Humidity\": city_humidity,\n",
    "                          \"Cloudiness\": city_clouds,\n",
    "                          \"Wind Speed\": city_wind,\n",
    "                          \"Country\": city_country,\n",
    "                          \"Date\": city_date,\n",
    "                          \"Current Description\": city_description})\n",
    "        if cty_wthr_dta.status_code==404:\n",
    "            \n",
    "            print(f\"after CityData.append\")\n",
    "        else:\n",
    "            print(\"HTML Error: \"+city_weather[\"cod\"]+\"Message: \"+city_weather[\"message\"])\n",
    "\n",
    "    # If an URL call error is experienced, skip the city\n",
    "    except:\n",
    "        print(\"Error in URL call to OpenWeather API. Skipping...\")\n",
    "        print(cty_wthr_dta)\n",
    "        pass\n",
    "\n",
    "    # increment loop counter\n",
    "    i+=1 \n",
    "\n",
    "# Indicate that the data retrieval is complete \n",
    "print(\"-----------------------------\")\n",
    "print(\"Data Retrieval Complete      \")\n",
    "print(\"-----------------------------\")"
   ]
  },
  {
   "cell_type": "code",
   "execution_count": 20,
   "metadata": {},
   "outputs": [
    {
     "data": {
      "text/plain": [
       "0"
      ]
     },
     "execution_count": 20,
     "metadata": {},
     "output_type": "execute_result"
    }
   ],
   "source": [
    "# Print the length of the city_data list to verify how many cities you have\n",
    "len(city_data)"
   ]
  },
  {
   "cell_type": "markdown",
   "metadata": {},
   "source": [
    "## Add the weather data to a new DataFrame."
   ]
  },
  {
   "cell_type": "code",
   "execution_count": 9,
   "metadata": {},
   "outputs": [
    {
     "data": {
      "text/html": [
       "<div>\n",
       "<style scoped>\n",
       "    .dataframe tbody tr th:only-of-type {\n",
       "        vertical-align: middle;\n",
       "    }\n",
       "\n",
       "    .dataframe tbody tr th {\n",
       "        vertical-align: top;\n",
       "    }\n",
       "\n",
       "    .dataframe thead th {\n",
       "        text-align: right;\n",
       "    }\n",
       "</style>\n",
       "<table border=\"1\" class=\"dataframe\">\n",
       "  <thead>\n",
       "    <tr style=\"text-align: right;\">\n",
       "      <th></th>\n",
       "    </tr>\n",
       "  </thead>\n",
       "  <tbody>\n",
       "  </tbody>\n",
       "</table>\n",
       "</div>"
      ],
      "text/plain": [
       "Empty DataFrame\n",
       "Columns: []\n",
       "Index: []"
      ]
     },
     "execution_count": 9,
     "metadata": {},
     "output_type": "execute_result"
    }
   ],
   "source": [
    "# Use the city_data list to create a new pandas DataFrame.\n",
    "city_data_df = pd.DataFrame(city_data) # YOUR CODE HERE\n",
    "city_data_df"
   ]
  },
  {
   "cell_type": "code",
   "execution_count": 10,
   "metadata": {},
   "outputs": [
    {
     "data": {
      "text/html": [
       "<div>\n",
       "<style scoped>\n",
       "    .dataframe tbody tr th:only-of-type {\n",
       "        vertical-align: middle;\n",
       "    }\n",
       "\n",
       "    .dataframe tbody tr th {\n",
       "        vertical-align: top;\n",
       "    }\n",
       "\n",
       "    .dataframe thead th {\n",
       "        text-align: right;\n",
       "    }\n",
       "</style>\n",
       "<table border=\"1\" class=\"dataframe\">\n",
       "  <thead>\n",
       "    <tr style=\"text-align: right;\">\n",
       "      <th></th>\n",
       "    </tr>\n",
       "  </thead>\n",
       "  <tbody>\n",
       "  </tbody>\n",
       "</table>\n",
       "</div>"
      ],
      "text/plain": [
       "Empty DataFrame\n",
       "Columns: []\n",
       "Index: []"
      ]
     },
     "execution_count": 10,
     "metadata": {},
     "output_type": "execute_result"
    }
   ],
   "source": [
    "# Display sample data\n",
    "city_data_df.head(10)"
   ]
  },
  {
   "cell_type": "code",
   "execution_count": 11,
   "metadata": {},
   "outputs": [
    {
     "data": {
      "text/plain": [
       "Index([], dtype='object')"
      ]
     },
     "execution_count": 11,
     "metadata": {},
     "output_type": "execute_result"
    }
   ],
   "source": [
    "# Display the DataFrame's column names using the columns Pandas function\n",
    "city_data_df.columns"
   ]
  },
  {
   "cell_type": "code",
   "execution_count": 12,
   "metadata": {},
   "outputs": [],
   "source": [
    "# Create a list to reorder the column names as follows:\n",
    "# \"City\", \"Country\", \"Lat\", \"Lng\", \"Max Temp\", \"Humidity\",  \"Cloudiness\", \"Wind Speed\",  \"Current Description\"\n",
    "# YOUR CODE HERE\n",
    "\n",
    "# Recreate the DataFrame by using the new column order\n",
    "# YOUR CODE HERE\n",
    "\n",
    "# Display sample data\n",
    "# YOUR CODE HERE"
   ]
  },
  {
   "cell_type": "code",
   "execution_count": 13,
   "metadata": {},
   "outputs": [],
   "source": [
    "# Display the data types of each column by using the dtypes Pandas function\n",
    "# YOUR CODE HERE"
   ]
  },
  {
   "cell_type": "markdown",
   "metadata": {},
   "source": [
    "## Export the DataFrame as a CSV file, and save it as `WeatherPy_Database.csv` in the `Weather_Database` folder."
   ]
  },
  {
   "cell_type": "code",
   "execution_count": 14,
   "metadata": {},
   "outputs": [],
   "source": [
    "# Set the output file name\n",
    "# YOUR CODE HERE\n",
    "\n",
    "# Export the city_data DataFrame into a CSV file\n",
    "# YOUR CODE HERE"
   ]
  },
  {
   "cell_type": "code",
   "execution_count": null,
   "metadata": {},
   "outputs": [],
   "source": []
  }
 ],
 "metadata": {
  "kernelspec": {
   "display_name": "Python 3 (ipykernel)",
   "language": "python",
   "name": "python3"
  },
  "language_info": {
   "codemirror_mode": {
    "name": "ipython",
    "version": 3
   },
   "file_extension": ".py",
   "mimetype": "text/x-python",
   "name": "python",
   "nbconvert_exporter": "python",
   "pygments_lexer": "ipython3",
   "version": "3.7.13"
  }
 },
 "nbformat": 4,
 "nbformat_minor": 4
}
