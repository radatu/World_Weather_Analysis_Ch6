{
 "cells": [
  {
   "cell_type": "markdown",
   "metadata": {},
   "source": [
    "# Deliverable 1. Retrieve Weather Data.\n",
    "---\n",
    "1. Create a folder called `Weather_Database` to save all the files related with this deliverable.\n",
    "\n",
    "2. Save the `Weather_Database_starter_code.ipynb` starter code to the `Weather_Database` folder and rename it as `Weather_Database.ipynb`.\n",
    "\n",
    "3. Use the `np.random.uniform` function to generate a new set of 2,000 random latitudes and 2,000 longitudes.\n",
    "\n",
    "4. Use the `citipy` module to get the nearest city for each latitude and longitude combination.\n",
    "\n",
    "5. Import your OpenWeatherMap's API key and assemble the API call URL as a string variable. Recall to edit the `config.py` file to add your API key; also, it's critical to avoid publishing your API key on your GitHub repository.\n",
    "\n",
    "6. Retrieve the following information from the API call:\n",
    "\n",
    "    * Latitude and longitude\n",
    "\n",
    "    * Maximum temperature\n",
    "\n",
    "    * Percent humidity\n",
    "\n",
    "    * Percent cloudiness\n",
    "\n",
    "    * Wind speed\n",
    "\n",
    "    * Weather description (for example, clouds, fog, light rain, clear sky)\n",
    "\n",
    "7. Add the weather data to a new DataFrame.\n",
    "\n",
    "8. Export the DataFrame as a CSV file, and save it as `WeatherPy_Database.csv` in the `Weather_Database` folder.\n",
    "---"
   ]
  },
  {
   "cell_type": "code",
   "execution_count": 1,
   "metadata": {},
   "outputs": [],
   "source": [
    "# Import initial libraries\n",
    "import numpy as np\n",
    "import pandas as pd\n",
    "from citipy import citipy"
   ]
  },
  {
   "cell_type": "markdown",
   "metadata": {},
   "source": [
    "## Use the `np.random.uniform` function to generate a new set of 2,000 random latitudes and 2,000 longitudes."
   ]
  },
  {
   "cell_type": "code",
   "execution_count": 2,
   "metadata": {},
   "outputs": [],
   "source": [
    "# Create a set of random latitude and longitude combinations\n",
    "lats = np.random.uniform(-90,90,10)\n",
    "lngs = np.random.uniform(-180,180,10)\n",
    "\n",
    "# Use the zip function to create an iterator of tuples containing the latitude and longitude combinations\n",
    "lat_lngs = zip(lats,lngs)\n"
   ]
  },
  {
   "cell_type": "code",
   "execution_count": 3,
   "metadata": {},
   "outputs": [
    {
     "data": {
      "text/plain": [
       "[(24.533686962332112, -71.39681169535866),\n",
       " (23.55910806514511, 117.72863017682698),\n",
       " (37.20577599324821, -67.44344475666556),\n",
       " (10.990297718966701, -69.65799412810706),\n",
       " (40.880546063635904, 23.41371441812811),\n",
       " (1.8822470914450804, -85.74475833883794),\n",
       " (-13.438608234129902, -58.05873465455497),\n",
       " (-71.27612848677217, -128.77602120363383),\n",
       " (79.70472184683265, -46.588604386392774),\n",
       " (33.55349087364158, -33.55531726999553)]"
      ]
     },
     "execution_count": 3,
     "metadata": {},
     "output_type": "execute_result"
    }
   ],
   "source": [
    "# Add the latitudes and longitudes to a list\n",
    "coordinates=list(lat_lngs)\n",
    "coordinates"
   ]
  },
  {
   "cell_type": "markdown",
   "metadata": {},
   "source": [
    "## Use the `citipy` module to get the nearest city for each latitude and longitude combination."
   ]
  },
  {
   "cell_type": "code",
   "execution_count": 4,
   "metadata": {},
   "outputs": [
    {
     "name": "stdout",
     "output_type": "stream",
     "text": [
      "<class 'citipy.citipy.City'>\n",
      "cockburn harbour tc\n",
      "<class 'citipy.citipy.City'>\n",
      "shima cn\n",
      "<class 'citipy.citipy.City'>\n",
      "nantucket us\n",
      "<class 'citipy.citipy.City'>\n",
      "coro ve\n",
      "<class 'citipy.citipy.City'>\n",
      "nikoklia gr\n",
      "<class 'citipy.citipy.City'>\n",
      "san cristobal ec\n",
      "<class 'citipy.citipy.City'>\n",
      "nova olimpia br\n",
      "<class 'citipy.citipy.City'>\n",
      "rikitea pf\n",
      "<class 'citipy.citipy.City'>\n",
      "ilulissat gl\n",
      "<class 'citipy.citipy.City'>\n",
      "ribeira grande pt\n",
      "10\n"
     ]
    }
   ],
   "source": [
    "# Create an empty list for holding the cities\n",
    "cities = []\n",
    "\n",
    "# Use a for loop to identify nearest city for each latitude and longitude combination using the citipy module\n",
    "for coordinate in coordinates:\n",
    "    # Use the citipy module to identify the nearest city, country to the current coordinate\n",
    "    city = citipy.nearest_city(coordinate[0],coordinate[1]) \n",
    "    print(type(city))\n",
    "    print(city.city_name, city.country_code)\n",
    "    # If the city is unique, then add it to a our cities list\n",
    "    if city.city_name not in cities:\n",
    "        cities.append(city)\n",
    "\n",
    "# Print the city count to confirm sufficient count\n",
    "print(len(cities))"
   ]
  },
  {
   "cell_type": "markdown",
   "metadata": {},
   "source": [
    "## Import your OpenWeatherMap's API key and assemble the API call URL as a string variable. Recall to edit the `config.py` file to add your API key."
   ]
  },
  {
   "cell_type": "code",
   "execution_count": 11,
   "metadata": {},
   "outputs": [],
   "source": [
    "# Import the requests library\n",
    "import requests\n",
    "\n",
    "# Import the time library\n",
    "import time\n",
    "\n",
    "import json\n",
    "\n",
    "# Import the datetime module from the datetime library\n",
    "from datetime import datetime\n",
    "\n",
    "# Import the OpenWeatherMap's API key\n",
    "\n",
    "from config import weather_api_key"
   ]
  },
  {
   "cell_type": "code",
   "execution_count": 12,
   "metadata": {},
   "outputs": [],
   "source": [
    "# Assemble the OpenWeatherMap's API call\n",
    "# url = \"https://api.openweathermap.org/data/2.5/weather?q=London,uk&APPID=\"+weather_api_key\n",
    "url = \"https://api.openweathermap.org/data/2.5/weather?&APPID=\"+weather_api_key"
   ]
  },
  {
   "cell_type": "markdown",
   "metadata": {},
   "source": [
    "## Retrieve the following information from the API call.\n",
    "\n",
    "- The latitude and longitude\n",
    "- The Max temperature\n",
    "- The % humidity\n",
    "- The % cloudiness\n",
    "- The Wind speed\n",
    "- The Weather description, i.e., cloudy, fog, light rain, clear sky, etc. "
   ]
  },
  {
   "cell_type": "code",
   "execution_count": 13,
   "metadata": {},
   "outputs": [
    {
     "name": "stdout",
     "output_type": "stream",
     "text": [
      "Beginning Data Retrieval     \n",
      "-----------------------------\n",
      "https://api.openweathermap.org/data/2.5/weather?&APPID=492a5a3e5474d1017570fc55a90cc59e&q=cockburn+harbour,tc\n",
      "Processing Record 1 of Set 1 | cockburn harbour,tc\n"
     ]
    },
    {
     "ename": "TypeError",
     "evalue": "the JSON object must be str, bytes or bytearray, not dict",
     "output_type": "error",
     "traceback": [
      "\u001b[0;31m---------------------------------------------------------------------------\u001b[0m",
      "\u001b[0;31mTypeError\u001b[0m                                 Traceback (most recent call last)",
      "\u001b[0;32m/var/folders/gc/j9n7mgr92vq0x9r03fl9sknc0000gn/T/ipykernel_80481/2128967620.py\u001b[0m in \u001b[0;36m<module>\u001b[0;34m\u001b[0m\n\u001b[1;32m     38\u001b[0m \u001b[0;34m\u001b[0m\u001b[0m\n\u001b[1;32m     39\u001b[0m     \u001b[0mcity_weather\u001b[0m \u001b[0;34m=\u001b[0m \u001b[0mrequests\u001b[0m\u001b[0;34m.\u001b[0m\u001b[0mget\u001b[0m\u001b[0;34m(\u001b[0m\u001b[0mcity_url\u001b[0m\u001b[0;34m)\u001b[0m\u001b[0;34m.\u001b[0m\u001b[0mjson\u001b[0m\u001b[0;34m(\u001b[0m\u001b[0;34m)\u001b[0m\u001b[0;34m\u001b[0m\u001b[0;34m\u001b[0m\u001b[0m\n\u001b[0;32m---> 40\u001b[0;31m     \u001b[0mcty_wthr_dta\u001b[0m \u001b[0;34m=\u001b[0m \u001b[0mjson\u001b[0m\u001b[0;34m.\u001b[0m\u001b[0mloads\u001b[0m\u001b[0;34m(\u001b[0m\u001b[0mcity_weather\u001b[0m\u001b[0;34m)\u001b[0m\u001b[0;34m\u001b[0m\u001b[0;34m\u001b[0m\u001b[0m\n\u001b[0m\u001b[1;32m     41\u001b[0m \u001b[0;34m\u001b[0m\u001b[0m\n\u001b[1;32m     42\u001b[0m    \u001b[0;31m# Parse out the latitude, longitude, max temp, humidity, cloudiness, wind, country, and weather description\u001b[0m\u001b[0;34m\u001b[0m\u001b[0;34m\u001b[0m\u001b[0;34m\u001b[0m\u001b[0m\n",
      "\u001b[0;32m~/opt/anaconda3/envs/PythonData/lib/python3.7/json/__init__.py\u001b[0m in \u001b[0;36mloads\u001b[0;34m(s, encoding, cls, object_hook, parse_float, parse_int, parse_constant, object_pairs_hook, **kw)\u001b[0m\n\u001b[1;32m    339\u001b[0m     \u001b[0;32melse\u001b[0m\u001b[0;34m:\u001b[0m\u001b[0;34m\u001b[0m\u001b[0;34m\u001b[0m\u001b[0m\n\u001b[1;32m    340\u001b[0m         \u001b[0;32mif\u001b[0m \u001b[0;32mnot\u001b[0m \u001b[0misinstance\u001b[0m\u001b[0;34m(\u001b[0m\u001b[0ms\u001b[0m\u001b[0;34m,\u001b[0m \u001b[0;34m(\u001b[0m\u001b[0mbytes\u001b[0m\u001b[0;34m,\u001b[0m \u001b[0mbytearray\u001b[0m\u001b[0;34m)\u001b[0m\u001b[0;34m)\u001b[0m\u001b[0;34m:\u001b[0m\u001b[0;34m\u001b[0m\u001b[0;34m\u001b[0m\u001b[0m\n\u001b[0;32m--> 341\u001b[0;31m             raise TypeError(f'the JSON object must be str, bytes or bytearray, '\n\u001b[0m\u001b[1;32m    342\u001b[0m                             f'not {s.__class__.__name__}')\n\u001b[1;32m    343\u001b[0m         \u001b[0ms\u001b[0m \u001b[0;34m=\u001b[0m \u001b[0ms\u001b[0m\u001b[0;34m.\u001b[0m\u001b[0mdecode\u001b[0m\u001b[0;34m(\u001b[0m\u001b[0mdetect_encoding\u001b[0m\u001b[0;34m(\u001b[0m\u001b[0ms\u001b[0m\u001b[0;34m)\u001b[0m\u001b[0;34m,\u001b[0m \u001b[0;34m'surrogatepass'\u001b[0m\u001b[0;34m)\u001b[0m\u001b[0;34m\u001b[0m\u001b[0;34m\u001b[0m\u001b[0m\n",
      "\u001b[0;31mTypeError\u001b[0m: the JSON object must be str, bytes or bytearray, not dict"
     ]
    }
   ],
   "source": [
    "# Create an empty list to hold weather data for each city\n",
    "city_data = []\n",
    "\n",
    "# Print a message to indicate that the data retrieval starts\n",
    "print(\"Beginning Data Retrieval     \")\n",
    "print(\"-----------------------------\")\n",
    "\n",
    "# Create counters and set them to 1\n",
    "record_count = 1\n",
    "set_count = 1\n",
    "\n",
    "# Loop through all the cities in our list to fetch weather data for each city\n",
    "# set loop counter to 0\n",
    "i = 0 \n",
    "for city in cities:      \n",
    "    # Group cities in sets of 50 for logging purposes\n",
    "    if (i % 50 == 0 and i >= 50):\n",
    "        set_count += 1\n",
    "        record_count = 1\n",
    "        time.sleep(60)\n",
    "   \n",
    "    # Create an endpoint URL for each city\n",
    "    city_url = url + \"&q=\" + city.city_name.replace(\" \",\"+\") + \",\" + city.country_code\n",
    "    print(city_url)\n",
    "    \n",
    "    # Log the url, record, and set numbers\n",
    "    print(f\"Processing Record {record_count} of Set {set_count} | {city.city_name},{city.country_code}\")\n",
    "\n",
    "    # Add 1 to the record count\n",
    "    record_count += 1\n",
    "    # # Create Python object from JSON string data\n",
    "    # obj = json.loads(json_data)\n",
    "\n",
    "    # Pretty Print JSON\n",
    "    # json_formatted_str = json.dumps(obj, indent=4)\n",
    "    # print(json_formatted_str)\n",
    "    # Run an API request for each of the cities\n",
    "    \n",
    "    city_weather = requests.get(city_url).json()\n",
    "    cty_wthr_dta = json.loads(city_weather)\n",
    "    \n",
    "   # Parse out the latitude, longitude, max temp, humidity, cloudiness, wind, country, and weather description\n",
    "    city_lat = cty_wthr_dta[\"coord\",\"lat\"]\n",
    "    city_lng = cty_wthr_dta[\"coord\",\"lon\"]\n",
    "    city_max_temp = cty_wthr_dta[\"main\"][\"temp_max\"]\n",
    "    city_humidity = cty_wthr_dta[\"main\"][\"humidity\"]\n",
    "    city_clouds = cty_wthr_dta[\"clouds\"][\"all\"]\n",
    "    city_wind = cty_wthr_dta[\"wind\"][\"speed\"]\n",
    "    city_country = cty_wthr_dta[\"sys\"][\"country\"]\n",
    "    city_description = cty_wthr_dta[\"weather\"][\"description\"]\n",
    "    print(city_description)\n",
    "    # Append into city_data list\n",
    "    city_data.append({\"City\": city.title(),\n",
    "                      \"Lat\": city_lat,\n",
    "                      \"Lng\": city_lng,\n",
    "                      \"Max Temp\": city_max_temp,\n",
    "                      \"Humidity\": city_humidity,\n",
    "                      \"Cloudiness\": city_clouds,\n",
    "                      \"Wind Speed\": city_wind,\n",
    "                      \"Country\": city_country,\n",
    "                      \"Date\": city_date,\n",
    "                      \"Current Description\": city_description})\n",
    "    if cty_wthr_dta.status_code==404:\n",
    "\n",
    "        print(f\"after CityData.append\")\n",
    "    else:\n",
    "        print(\"HTML Error: \"+city_weather[\"cod\"]+\"Message: \"+city_weather[\"message\"])\n",
    "\n",
    "# If an URL call error is experienced, skip the city\n",
    "\n",
    "#     print(\"Error in URL call to OpenWeather API. Skipping...\")\n",
    "    print(cty_wthr_dta)\n",
    "\n",
    "\n",
    "    # increment loop counter\n",
    "    i+=1 \n",
    "\n",
    "# Indicate that the data retrieval is complete \n",
    "print(\"-----------------------------\")\n",
    "print(\"Data Retrieval Complete      \")\n",
    "print(\"-----------------------------\")"
   ]
  },
  {
   "cell_type": "code",
   "execution_count": 14,
   "metadata": {},
   "outputs": [
    {
     "data": {
      "text/plain": [
       "0"
      ]
     },
     "execution_count": 14,
     "metadata": {},
     "output_type": "execute_result"
    }
   ],
   "source": [
    "# Print the length of the city_data list to verify how many cities you have\n",
    "len(city_data)"
   ]
  },
  {
   "cell_type": "markdown",
   "metadata": {},
   "source": [
    "## Add the weather data to a new DataFrame."
   ]
  },
  {
   "cell_type": "code",
   "execution_count": null,
   "metadata": {},
   "outputs": [],
   "source": [
    "# Use the city_data list to create a new pandas DataFrame.\n",
    "city_data_df = pd.DataFrame(city_data) # YOUR CODE HERE\n",
    "city_data_df"
   ]
  },
  {
   "cell_type": "code",
   "execution_count": null,
   "metadata": {},
   "outputs": [],
   "source": [
    "# Display sample data\n",
    "city_data_df.head(10)"
   ]
  },
  {
   "cell_type": "code",
   "execution_count": null,
   "metadata": {},
   "outputs": [],
   "source": [
    "# Display the DataFrame's column names using the columns Pandas function\n",
    "city_data_df.columns"
   ]
  },
  {
   "cell_type": "code",
   "execution_count": null,
   "metadata": {},
   "outputs": [],
   "source": [
    "# Create a list to reorder the column names as follows:\n",
    "# \"City\", \"Country\", \"Lat\", \"Lng\", \"Max Temp\", \"Humidity\",  \"Cloudiness\", \"Wind Speed\",  \"Current Description\"\n",
    "# YOUR CODE HERE\n",
    "\n",
    "# Recreate the DataFrame by using the new column order\n",
    "# YOUR CODE HERE\n",
    "\n",
    "# Display sample data\n",
    "# YOUR CODE HERE"
   ]
  },
  {
   "cell_type": "code",
   "execution_count": null,
   "metadata": {},
   "outputs": [],
   "source": [
    "# Display the data types of each column by using the dtypes Pandas function\n",
    "# YOUR CODE HERE"
   ]
  },
  {
   "cell_type": "markdown",
   "metadata": {},
   "source": [
    "## Export the DataFrame as a CSV file, and save it as `WeatherPy_Database.csv` in the `Weather_Database` folder."
   ]
  },
  {
   "cell_type": "code",
   "execution_count": null,
   "metadata": {},
   "outputs": [],
   "source": [
    "# Set the output file name\n",
    "# YOUR CODE HERE\n",
    "\n",
    "# Export the city_data DataFrame into a CSV file\n",
    "# YOUR CODE HERE"
   ]
  },
  {
   "cell_type": "code",
   "execution_count": null,
   "metadata": {},
   "outputs": [],
   "source": []
  }
 ],
 "metadata": {
  "kernelspec": {
   "display_name": "Python 3 (ipykernel)",
   "language": "python",
   "name": "python3"
  },
  "language_info": {
   "codemirror_mode": {
    "name": "ipython",
    "version": 3
   },
   "file_extension": ".py",
   "mimetype": "text/x-python",
   "name": "python",
   "nbconvert_exporter": "python",
   "pygments_lexer": "ipython3",
   "version": "3.7.13"
  }
 },
 "nbformat": 4,
 "nbformat_minor": 4
}
