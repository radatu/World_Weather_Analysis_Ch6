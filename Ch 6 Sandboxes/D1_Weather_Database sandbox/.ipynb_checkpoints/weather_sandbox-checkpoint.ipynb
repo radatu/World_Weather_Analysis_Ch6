{
 "cells": [
  {
   "cell_type": "code",
   "execution_count": 1,
   "id": "c6dd8616",
   "metadata": {},
   "outputs": [],
   "source": [
    "import numpy as np\n",
    "import pandas as pd\n",
    "# Import the requests library\n",
    "import requests\n",
    "\n",
    "# Import the time library\n",
    "import time\n",
    "\n",
    "# Import the datetime module from the datetime library\n",
    "from datetime import datetime\n",
    "\n",
    "# Import the OpenWeatherMap's API key\n",
    "from config import weather_api_key"
   ]
  },
  {
   "cell_type": "code",
   "execution_count": 2,
   "id": "f37b597b",
   "metadata": {},
   "outputs": [],
   "source": [
    "# url=\"https://api.openweathermap.org/data/2.5/weather?q=London,uk&APPID=\"+weather_api_key\n",
    "url=\"https://api.openweathermap.org/data/2.5/weather?q=Seattle,wa,usa&APPID=\"+weather_api_key"
   ]
  },
  {
   "cell_type": "code",
   "execution_count": 3,
   "id": "32fedba3",
   "metadata": {},
   "outputs": [
    {
     "data": {
      "text/plain": [
       "{'coord': {'lon': -122.3301, 'lat': 47.6038},\n",
       " 'weather': [{'id': 500,\n",
       "   'main': 'Rain',\n",
       "   'description': 'light rain',\n",
       "   'icon': '10n'}],\n",
       " 'base': 'stations',\n",
       " 'main': {'temp': 279.64,\n",
       "  'feels_like': 277.06,\n",
       "  'temp_min': 276.94,\n",
       "  'temp_max': 281.47,\n",
       "  'pressure': 1015,\n",
       "  'humidity': 76},\n",
       " 'visibility': 10000,\n",
       " 'wind': {'speed': 3.6, 'deg': 190},\n",
       " 'rain': {'1h': 0.4},\n",
       " 'clouds': {'all': 100},\n",
       " 'dt': 1678241740,\n",
       " 'sys': {'type': 2,\n",
       "  'id': 2041694,\n",
       "  'country': 'US',\n",
       "  'sunrise': 1678199922,\n",
       "  'sunset': 1678240938},\n",
       " 'timezone': -28800,\n",
       " 'id': 5809844,\n",
       " 'name': 'Seattle',\n",
       " 'cod': 200}"
      ]
     },
     "execution_count": 3,
     "metadata": {},
     "output_type": "execute_result"
    }
   ],
   "source": [
    "city_weather = requests.get(url).json()\n",
    "city_weather"
   ]
  },
  {
   "cell_type": "code",
   "execution_count": null,
   "id": "0606c148",
   "metadata": {},
   "outputs": [],
   "source": []
  }
 ],
 "metadata": {
  "kernelspec": {
   "display_name": "Python 3 (ipykernel)",
   "language": "python",
   "name": "python3"
  },
  "language_info": {
   "codemirror_mode": {
    "name": "ipython",
    "version": 3
   },
   "file_extension": ".py",
   "mimetype": "text/x-python",
   "name": "python",
   "nbconvert_exporter": "python",
   "pygments_lexer": "ipython3",
   "version": "3.7.13"
  }
 },
 "nbformat": 4,
 "nbformat_minor": 5
}
