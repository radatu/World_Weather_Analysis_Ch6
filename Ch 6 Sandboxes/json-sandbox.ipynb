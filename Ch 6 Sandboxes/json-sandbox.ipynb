{
 "cells": [
  {
   "cell_type": "code",
   "execution_count": 1,
   "id": "f27fe862",
   "metadata": {},
   "outputs": [
    {
     "name": "stdout",
     "output_type": "stream",
     "text": [
      "{'Lat': -23.12, 'Lng': -134.97, 'Max Temp': 298.8, 'Humidity': 83, 'Cloudiness': 22, 'Wind Speed': 5.03, 'City': 'Rikitea', 'Country': 'PF', 'Current Description': 'light rain'}\n"
     ]
    }
   ],
   "source": [
    "city_weather={\n",
    "    \"coord\": {\n",
    "        \"lon\": -134.9692,\n",
    "        \"lat\": -23.1203\n",
    "    },\n",
    "    \"weather\": [\n",
    "        {\n",
    "            \"id\": 500,\n",
    "            \"main\": \"Rain\",\n",
    "            \"description\": \"light rain\",\n",
    "            \"icon\": \"10d\"\n",
    "        }\n",
    "    ],\n",
    "    \"base\": \"stations\",\n",
    "    \"main\": {\n",
    "        \"temp\": 298.8,\n",
    "        \"feels_like\": 299.59,\n",
    "        \"temp_min\": 298.8,\n",
    "        \"temp_max\": 298.8,\n",
    "        \"pressure\": 1008,\n",
    "        \"humidity\": 83,\n",
    "        \"sea_level\": 1008,\n",
    "        \"grnd_level\": 1005\n",
    "    },\n",
    "    \"visibility\": 10000,\n",
    "    \"wind\": {\n",
    "        \"speed\": 5.03,\n",
    "        \"deg\": 206,\n",
    "        \"gust\": 4.75\n",
    "    },\n",
    "    \"rain\": {\n",
    "        \"1h\": 0.27\n",
    "    },\n",
    "    \"clouds\": {\n",
    "        \"all\": 22\n",
    "    },\n",
    "    \"dt\": 1678374455,\n",
    "    \"sys\": {\n",
    "        \"country\": \"PF\",\n",
    "        \"sunrise\": 1678373956,\n",
    "        \"sunset\": 1678418509\n",
    "    },\n",
    "    \"timezone\": -32400,\n",
    "    \"id\": 4030556,\n",
    "    \"name\": \"Rikitea\",\n",
    "    \"cod\": 200\n",
    "}\n",
    "\n",
    "long=round(city_weather['coord']['lon'],2)\n",
    "lat=round(city_weather['coord']['lat'],2)\n",
    "max_temp=city_weather['main']['temp_max']\n",
    "humidity=city_weather['main']['humidity']\n",
    "cloudiness=city_weather['clouds']['all']\n",
    "wind_speed=city_weather['wind']['speed']\n",
    "country=city_weather['sys']['country']\n",
    "city_name=city_weather['name']\n",
    "description=city_weather[\"weather\"][0][\"description\"]\n",
    "city_datum={'Lat':lat,'Lng':long,'Max Temp':max_temp,'Humidity':humidity,'Cloudiness':cloudiness,'Wind Speed':wind_speed,'City':city_name,'Country':country,'Current Description':description}\n",
    "print(city_datum)"
   ]
  },
  {
   "cell_type": "code",
   "execution_count": null,
   "id": "93f26134",
   "metadata": {},
   "outputs": [],
   "source": []
  }
 ],
 "metadata": {
  "kernelspec": {
   "display_name": "Python 3 (ipykernel)",
   "language": "python",
   "name": "python3"
  },
  "language_info": {
   "codemirror_mode": {
    "name": "ipython",
    "version": 3
   },
   "file_extension": ".py",
   "mimetype": "text/x-python",
   "name": "python",
   "nbconvert_exporter": "python",
   "pygments_lexer": "ipython3",
   "version": "3.7.13"
  }
 },
 "nbformat": 4,
 "nbformat_minor": 5
}
