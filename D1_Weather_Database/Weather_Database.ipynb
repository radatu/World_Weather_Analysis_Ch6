{
 "cells": [
  {
   "cell_type": "markdown",
   "metadata": {},
   "source": [
    "# Deliverable 1. Retrieve Weather Data.\n",
    "---\n",
    "1. Create a folder called `Weather_Database` to save all the files related with this deliverable.\n",
    "\n",
    "2. Save the `Weather_Database_starter_code.ipynb` starter code to the `Weather_Database` folder and rename it as `Weather_Database.ipynb`.\n",
    "\n",
    "3. Use the `np.random.uniform` function to generate a new set of 2,000 random latitudes and 2,000 longitudes.\n",
    "\n",
    "4. Use the `citipy` module to get the nearest city for each latitude and longitude combination.\n",
    "\n",
    "5. Import your OpenWeatherMap's API key and assemble the API call URL as a string variable. Recall to edit the `config.py` file to add your API key; also, it's critical to avoid publishing your API key on your GitHub repository.\n",
    "\n",
    "6. Retrieve the following information from the API call:\n",
    "\n",
    "    * Latitude and longitude\n",
    "\n",
    "    * Maximum temperature\n",
    "\n",
    "    * Percent humidity\n",
    "\n",
    "    * Percent cloudiness\n",
    "\n",
    "    * Wind speed\n",
    "\n",
    "    * Weather description (for example, clouds, fog, light rain, clear sky)\n",
    "\n",
    "7. Add the weather data to a new DataFrame.\n",
    "\n",
    "8. Export the DataFrame as a CSV file, and save it as `WeatherPy_Database.csv` in the `Weather_Database` folder.\n",
    "---"
   ]
  },
  {
   "cell_type": "code",
   "execution_count": 22,
   "metadata": {},
   "outputs": [],
   "source": [
    "# Import initial libraries\n",
    "import numpy as np\n",
    "import pandas as pd\n",
    "from citipy import citipy"
   ]
  },
  {
   "cell_type": "markdown",
   "metadata": {},
   "source": [
    "## Use the `np.random.uniform` function to generate a new set of 2,000 random latitudes and 2,000 longitudes."
   ]
  },
  {
   "cell_type": "code",
   "execution_count": 23,
   "metadata": {},
   "outputs": [],
   "source": [
    "# Create a set of random latitude and longitude combinations\n",
    "n = 10 # number of coordinates to generate. 10 to test. 2,000 for final submission.\n",
    "\n",
    "lats = np.random.uniform(-90, 90, n)\n",
    "lngs = np.random.uniform(-180, 180, n)\n",
    "\n",
    "# Use the zip function to create an iterator of tuples containing the latitude and longitude combinations\n",
    "lats_lngs = zip(lats,lngs)       "
   ]
  },
  {
   "cell_type": "code",
   "execution_count": 24,
   "metadata": {},
   "outputs": [
    {
     "data": {
      "text/plain": [
       "[(84.3415730723776, 108.4734299961716),\n",
       " (-17.419920302335868, 137.5550277944339),\n",
       " (-35.22388059010779, 23.86677322565626),\n",
       " (53.19654553350557, 14.307812712998697),\n",
       " (38.45032912724929, -169.60698496938883),\n",
       " (-12.467241003555557, -116.44974154522843),\n",
       " (39.67371868785344, 139.17322776881883),\n",
       " (35.39133480564631, -158.7096594715832),\n",
       " (12.983443933541736, -18.61197662946921),\n",
       " (88.87684868361166, -163.40758735745064)]"
      ]
     },
     "execution_count": 24,
     "metadata": {},
     "output_type": "execute_result"
    }
   ],
   "source": [
    "# Add the latitudes and longitudes to a list\n",
    "coordinates = list(lats_lngs)\n",
    "coordinates"
   ]
  },
  {
   "cell_type": "markdown",
   "metadata": {},
   "source": [
    "## Use the `citipy` module to get the nearest city for each latitude and longitude combination."
   ]
  },
  {
   "cell_type": "code",
   "execution_count": 25,
   "metadata": {},
   "outputs": [
    {
     "name": "stdout",
     "output_type": "stream",
     "text": [
      "9\n"
     ]
    }
   ],
   "source": [
    "# Create an empty list for holding the cities\n",
    "cities =[]\n",
    "\n",
    "# Use a for loop to identify nearest city for each latitude and longitude combination using the citipy module\n",
    "for coordinate in coordinates:\n",
    "    # Use the citipy module to identify the nearest city to the current coordinate\n",
    "    city=citipy.nearest_city(coordinate[0], coordinate[1])\n",
    "\n",
    "    # If the city is unique, then add it to a our cities list\n",
    "    if city not in cities:\n",
    "        cities.append(city)\n",
    "        \n",
    "# Print the city count to confirm sufficient count\n",
    "\n",
    "print(len(cities))"
   ]
  },
  {
   "cell_type": "markdown",
   "metadata": {},
   "source": [
    "## Import your OpenWeatherMap's API key and assemble the API call URL as a string variable. Recall to edit the `config.py` file to add your API key."
   ]
  },
  {
   "cell_type": "code",
   "execution_count": 26,
   "metadata": {},
   "outputs": [],
   "source": [
    "# Import the requests library\n",
    "import requests\n",
    "\n",
    "# Import the time library\n",
    "import time\n",
    "\n",
    "# Import json\n",
    "import json\n",
    "\n",
    "# Import the datetime module from the datetime library\n",
    "from datetime import datetime\n",
    "\n",
    "# Import the OpenWeatherMap's API key\n",
    "from config import weather_api_key"
   ]
  },
  {
   "cell_type": "code",
   "execution_count": 27,
   "metadata": {},
   "outputs": [],
   "source": [
    "# Assemble the OpenWeatherMap's API call\n",
    "url=\"https://api.openweathermap.org/data/2.5/weather?&APPID=\"+weather_api_key"
   ]
  },
  {
   "cell_type": "markdown",
   "metadata": {},
   "source": [
    "## Retrieve the following information from the API call.\n",
    "\n",
    "- The latitude and longitude\n",
    "- The Max temperature\n",
    "- The % humidity\n",
    "- The % cloudiness\n",
    "- The Wind speed\n",
    "- The Weather description, i.e., cloudy, fog, light rain, clear sky, etc. "
   ]
  },
  {
   "cell_type": "code",
   "execution_count": 28,
   "metadata": {},
   "outputs": [
    {
     "name": "stdout",
     "output_type": "stream",
     "text": [
      "Beginning Data Retrieval     \n",
      "-----------------------------\n",
      "https://api.openweathermap.org/data/2.5/weather?&APPID=492a5a3e5474d1017570fc55a90cc59e&q=saskylakh,ru&units=imperial\n",
      "Processing Record 1 of Set 1 | saskylakh,ru\n",
      "https://api.openweathermap.org/data/2.5/weather?&APPID=492a5a3e5474d1017570fc55a90cc59e&q=alyangula,au&units=imperial\n",
      "Processing Record 2 of Set 1 | alyangula,au\n",
      "https://api.openweathermap.org/data/2.5/weather?&APPID=492a5a3e5474d1017570fc55a90cc59e&q=plettenberg+bay,za&units=imperial\n",
      "Processing Record 3 of Set 1 | plettenberg bay,za\n",
      "https://api.openweathermap.org/data/2.5/weather?&APPID=492a5a3e5474d1017570fc55a90cc59e&q=schwedt,de&units=imperial\n",
      "Processing Record 4 of Set 1 | schwedt,de\n",
      "https://api.openweathermap.org/data/2.5/weather?&APPID=492a5a3e5474d1017570fc55a90cc59e&q=kapaa,us&units=imperial\n",
      "Processing Record 5 of Set 1 | kapaa,us\n",
      "https://api.openweathermap.org/data/2.5/weather?&APPID=492a5a3e5474d1017570fc55a90cc59e&q=rikitea,pf&units=imperial\n",
      "Processing Record 6 of Set 1 | rikitea,pf\n",
      "https://api.openweathermap.org/data/2.5/weather?&APPID=492a5a3e5474d1017570fc55a90cc59e&q=oga,jp&units=imperial\n",
      "Processing Record 7 of Set 1 | oga,jp\n",
      "HTML Error: 404 Message: city not found\n",
      "https://api.openweathermap.org/data/2.5/weather?&APPID=492a5a3e5474d1017570fc55a90cc59e&q=gunjur,gm&units=imperial\n",
      "Processing Record 8 of Set 1 | gunjur,gm\n",
      "https://api.openweathermap.org/data/2.5/weather?&APPID=492a5a3e5474d1017570fc55a90cc59e&q=barrow,us&units=imperial\n",
      "Processing Record 9 of Set 1 | barrow,us\n",
      "-----------------------------\n",
      "Data Retrieval Complete      \n",
      "-----------------------------\n"
     ]
    }
   ],
   "source": [
    "# Create an empty list to hold weather data for each city\n",
    "city_data = []\n",
    "\n",
    "# Print a message to indicate that the data retrieval starts\n",
    "print(\"Beginning Data Retrieval     \")\n",
    "print(\"-----------------------------\")\n",
    "\n",
    "# Create counters and set them to 1\n",
    "record_count = 1\n",
    "set_count = 1\n",
    "\n",
    "# Loop through all the cities in our list to fetch weather data for each city\n",
    "i=0\n",
    "for city in cities:\n",
    "    # Group cities in sets of 50 for logging purposes\n",
    "    if (i % 50 == 0 and i >= 50):\n",
    "        set_count += 1\n",
    "        record_count = 1\n",
    "        time.sleep(60)\n",
    "\n",
    "    # Create an endpoint URL for each city\n",
    "    city_url = url + \"&q=\" + city.city_name.replace(\" \",\"+\") + \",\" + city.country_code + '&units=imperial'\n",
    "    print(city_url)\n",
    "    \n",
    "    # Log the url, record, and set numbers\n",
    "    print(f\"Processing Record {record_count} of Set {set_count} | {city.city_name},{city.country_code}\")\n",
    "\n",
    "    # Add 1 to the record count\n",
    "    record_count += 1\n",
    "\n",
    "    # Run an API request for each of the cities\n",
    "   \n",
    "    city_weather = requests.get(city_url).json()\n",
    "    # Parse out the latitude, longitude, max temp, humidity, cloudiness, wind, country, and weather description  \n",
    "\n",
    "    if city_weather[\"cod\"]==200:\n",
    "        # success!\n",
    "#         city_weather_formatted_str = json.dumps(city_weather, indent=4)\n",
    "#         print(city_weather_formatted_str)\n",
    "\n",
    "        # Parse out the latitude, longitude, max temp, humidity, cloudiness, wind, country, and weather description       \n",
    "        long=round(city_weather['coord']['lon'],2)\n",
    "        lat=round(city_weather['coord']['lat'],2)\n",
    "        max_temp=city_weather['main']['temp_max']\n",
    "        humidity=city_weather['main']['humidity']\n",
    "        cloudiness=city_weather['clouds']['all']\n",
    "        wind_speed=city_weather['wind']['speed']\n",
    "        country=city_weather['sys']['country']\n",
    "        city_name=city_weather['name']\n",
    "        description=city_weather[\"weather\"][0][\"description\"]\n",
    "        city_datum={'Lat':lat,'Lng':long,'Max Temp':max_temp,'Humidity':humidity,'Cloudiness':cloudiness,'Wind Speed':wind_speed,'City':city_name,'Country':country,'Current Description':description}\n",
    "#         print(city_datum)\n",
    "        # Append the city information into the city_data list\n",
    "        city_data.append(city_datum)\n",
    "    else:\n",
    "        print(\"HTML Error: \"+city_weather[\"cod\"]+\" Message: \"+city_weather[\"message\"])\n",
    "    i+=1\n",
    "    \n",
    "\n",
    "# Indicate that the data retrieval is complete \n",
    "print(\"-----------------------------\")\n",
    "print(\"Data Retrieval Complete      \")\n",
    "print(\"-----------------------------\")"
   ]
  },
  {
   "cell_type": "code",
   "execution_count": 29,
   "metadata": {},
   "outputs": [
    {
     "data": {
      "text/plain": [
       "8"
      ]
     },
     "execution_count": 29,
     "metadata": {},
     "output_type": "execute_result"
    }
   ],
   "source": [
    "# Print the length of the city_data list to verify how many cities you have\n",
    "len(city_data)"
   ]
  },
  {
   "cell_type": "markdown",
   "metadata": {},
   "source": [
    "## Add the weather data to a new DataFrame."
   ]
  },
  {
   "cell_type": "code",
   "execution_count": 30,
   "metadata": {},
   "outputs": [],
   "source": [
    "# Use the city_data list to create a new pandas DataFrame.\n",
    "city_data_df = pd.DataFrame(city_data)"
   ]
  },
  {
   "cell_type": "code",
   "execution_count": 31,
   "metadata": {},
   "outputs": [
    {
     "data": {
      "text/html": [
       "<div>\n",
       "<style scoped>\n",
       "    .dataframe tbody tr th:only-of-type {\n",
       "        vertical-align: middle;\n",
       "    }\n",
       "\n",
       "    .dataframe tbody tr th {\n",
       "        vertical-align: top;\n",
       "    }\n",
       "\n",
       "    .dataframe thead th {\n",
       "        text-align: right;\n",
       "    }\n",
       "</style>\n",
       "<table border=\"1\" class=\"dataframe\">\n",
       "  <thead>\n",
       "    <tr style=\"text-align: right;\">\n",
       "      <th></th>\n",
       "      <th>Lat</th>\n",
       "      <th>Lng</th>\n",
       "      <th>Max Temp</th>\n",
       "      <th>Humidity</th>\n",
       "      <th>Cloudiness</th>\n",
       "      <th>Wind Speed</th>\n",
       "      <th>City</th>\n",
       "      <th>Country</th>\n",
       "      <th>Current Description</th>\n",
       "    </tr>\n",
       "  </thead>\n",
       "  <tbody>\n",
       "    <tr>\n",
       "      <th>0</th>\n",
       "      <td>71.92</td>\n",
       "      <td>114.08</td>\n",
       "      <td>-28.89</td>\n",
       "      <td>99</td>\n",
       "      <td>41</td>\n",
       "      <td>6.53</td>\n",
       "      <td>Saskylakh</td>\n",
       "      <td>RU</td>\n",
       "      <td>scattered clouds</td>\n",
       "    </tr>\n",
       "    <tr>\n",
       "      <th>1</th>\n",
       "      <td>-13.85</td>\n",
       "      <td>136.42</td>\n",
       "      <td>80.62</td>\n",
       "      <td>66</td>\n",
       "      <td>5</td>\n",
       "      <td>9.04</td>\n",
       "      <td>Alyangula</td>\n",
       "      <td>AU</td>\n",
       "      <td>clear sky</td>\n",
       "    </tr>\n",
       "    <tr>\n",
       "      <th>2</th>\n",
       "      <td>-34.05</td>\n",
       "      <td>23.37</td>\n",
       "      <td>64.63</td>\n",
       "      <td>89</td>\n",
       "      <td>0</td>\n",
       "      <td>4.38</td>\n",
       "      <td>Plettenberg Bay</td>\n",
       "      <td>ZA</td>\n",
       "      <td>clear sky</td>\n",
       "    </tr>\n",
       "    <tr>\n",
       "      <th>3</th>\n",
       "      <td>53.06</td>\n",
       "      <td>14.28</td>\n",
       "      <td>35.58</td>\n",
       "      <td>100</td>\n",
       "      <td>100</td>\n",
       "      <td>4.14</td>\n",
       "      <td>Schwedt</td>\n",
       "      <td>DE</td>\n",
       "      <td>overcast clouds</td>\n",
       "    </tr>\n",
       "    <tr>\n",
       "      <th>4</th>\n",
       "      <td>22.08</td>\n",
       "      <td>-159.32</td>\n",
       "      <td>69.78</td>\n",
       "      <td>77</td>\n",
       "      <td>100</td>\n",
       "      <td>3.44</td>\n",
       "      <td>Kapaa</td>\n",
       "      <td>US</td>\n",
       "      <td>overcast clouds</td>\n",
       "    </tr>\n",
       "    <tr>\n",
       "      <th>5</th>\n",
       "      <td>-23.12</td>\n",
       "      <td>-134.97</td>\n",
       "      <td>79.97</td>\n",
       "      <td>81</td>\n",
       "      <td>0</td>\n",
       "      <td>23.06</td>\n",
       "      <td>Rikitea</td>\n",
       "      <td>PF</td>\n",
       "      <td>clear sky</td>\n",
       "    </tr>\n",
       "    <tr>\n",
       "      <th>6</th>\n",
       "      <td>13.20</td>\n",
       "      <td>-16.73</td>\n",
       "      <td>98.67</td>\n",
       "      <td>13</td>\n",
       "      <td>0</td>\n",
       "      <td>4.61</td>\n",
       "      <td>Gunjur</td>\n",
       "      <td>GM</td>\n",
       "      <td>clear sky</td>\n",
       "    </tr>\n",
       "    <tr>\n",
       "      <th>7</th>\n",
       "      <td>71.29</td>\n",
       "      <td>-156.79</td>\n",
       "      <td>-9.38</td>\n",
       "      <td>84</td>\n",
       "      <td>100</td>\n",
       "      <td>12.66</td>\n",
       "      <td>Barrow</td>\n",
       "      <td>US</td>\n",
       "      <td>overcast clouds</td>\n",
       "    </tr>\n",
       "  </tbody>\n",
       "</table>\n",
       "</div>"
      ],
      "text/plain": [
       "     Lat     Lng  Max Temp  Humidity  Cloudiness  Wind Speed             City  \\\n",
       "0  71.92  114.08    -28.89        99          41        6.53        Saskylakh   \n",
       "1 -13.85  136.42     80.62        66           5        9.04        Alyangula   \n",
       "2 -34.05   23.37     64.63        89           0        4.38  Plettenberg Bay   \n",
       "3  53.06   14.28     35.58       100         100        4.14          Schwedt   \n",
       "4  22.08 -159.32     69.78        77         100        3.44            Kapaa   \n",
       "5 -23.12 -134.97     79.97        81           0       23.06          Rikitea   \n",
       "6  13.20  -16.73     98.67        13           0        4.61           Gunjur   \n",
       "7  71.29 -156.79     -9.38        84         100       12.66           Barrow   \n",
       "\n",
       "  Country Current Description  \n",
       "0      RU    scattered clouds  \n",
       "1      AU           clear sky  \n",
       "2      ZA           clear sky  \n",
       "3      DE     overcast clouds  \n",
       "4      US     overcast clouds  \n",
       "5      PF           clear sky  \n",
       "6      GM           clear sky  \n",
       "7      US     overcast clouds  "
      ]
     },
     "execution_count": 31,
     "metadata": {},
     "output_type": "execute_result"
    }
   ],
   "source": [
    "# Display sample data\n",
    "city_data_df.head(10)"
   ]
  },
  {
   "cell_type": "code",
   "execution_count": 32,
   "metadata": {},
   "outputs": [
    {
     "data": {
      "text/plain": [
       "Index(['Lat', 'Lng', 'Max Temp', 'Humidity', 'Cloudiness', 'Wind Speed',\n",
       "       'City', 'Country', 'Current Description'],\n",
       "      dtype='object')"
      ]
     },
     "execution_count": 32,
     "metadata": {},
     "output_type": "execute_result"
    }
   ],
   "source": [
    "# Display the DataFrame's column names using the columns Pandas function\n",
    "city_data_df.columns"
   ]
  },
  {
   "cell_type": "code",
   "execution_count": 33,
   "metadata": {},
   "outputs": [
    {
     "data": {
      "text/html": [
       "<div>\n",
       "<style scoped>\n",
       "    .dataframe tbody tr th:only-of-type {\n",
       "        vertical-align: middle;\n",
       "    }\n",
       "\n",
       "    .dataframe tbody tr th {\n",
       "        vertical-align: top;\n",
       "    }\n",
       "\n",
       "    .dataframe thead th {\n",
       "        text-align: right;\n",
       "    }\n",
       "</style>\n",
       "<table border=\"1\" class=\"dataframe\">\n",
       "  <thead>\n",
       "    <tr style=\"text-align: right;\">\n",
       "      <th></th>\n",
       "      <th>City</th>\n",
       "      <th>Country</th>\n",
       "      <th>Lat</th>\n",
       "      <th>Lng</th>\n",
       "      <th>Max Temp</th>\n",
       "      <th>Humidity</th>\n",
       "      <th>Cloudiness</th>\n",
       "      <th>Wind Speed</th>\n",
       "      <th>Current Description</th>\n",
       "    </tr>\n",
       "  </thead>\n",
       "  <tbody>\n",
       "    <tr>\n",
       "      <th>0</th>\n",
       "      <td>Saskylakh</td>\n",
       "      <td>RU</td>\n",
       "      <td>71.92</td>\n",
       "      <td>114.08</td>\n",
       "      <td>-28.89</td>\n",
       "      <td>99</td>\n",
       "      <td>41</td>\n",
       "      <td>6.53</td>\n",
       "      <td>scattered clouds</td>\n",
       "    </tr>\n",
       "    <tr>\n",
       "      <th>1</th>\n",
       "      <td>Alyangula</td>\n",
       "      <td>AU</td>\n",
       "      <td>-13.85</td>\n",
       "      <td>136.42</td>\n",
       "      <td>80.62</td>\n",
       "      <td>66</td>\n",
       "      <td>5</td>\n",
       "      <td>9.04</td>\n",
       "      <td>clear sky</td>\n",
       "    </tr>\n",
       "    <tr>\n",
       "      <th>2</th>\n",
       "      <td>Plettenberg Bay</td>\n",
       "      <td>ZA</td>\n",
       "      <td>-34.05</td>\n",
       "      <td>23.37</td>\n",
       "      <td>64.63</td>\n",
       "      <td>89</td>\n",
       "      <td>0</td>\n",
       "      <td>4.38</td>\n",
       "      <td>clear sky</td>\n",
       "    </tr>\n",
       "    <tr>\n",
       "      <th>3</th>\n",
       "      <td>Schwedt</td>\n",
       "      <td>DE</td>\n",
       "      <td>53.06</td>\n",
       "      <td>14.28</td>\n",
       "      <td>35.58</td>\n",
       "      <td>100</td>\n",
       "      <td>100</td>\n",
       "      <td>4.14</td>\n",
       "      <td>overcast clouds</td>\n",
       "    </tr>\n",
       "    <tr>\n",
       "      <th>4</th>\n",
       "      <td>Kapaa</td>\n",
       "      <td>US</td>\n",
       "      <td>22.08</td>\n",
       "      <td>-159.32</td>\n",
       "      <td>69.78</td>\n",
       "      <td>77</td>\n",
       "      <td>100</td>\n",
       "      <td>3.44</td>\n",
       "      <td>overcast clouds</td>\n",
       "    </tr>\n",
       "    <tr>\n",
       "      <th>5</th>\n",
       "      <td>Rikitea</td>\n",
       "      <td>PF</td>\n",
       "      <td>-23.12</td>\n",
       "      <td>-134.97</td>\n",
       "      <td>79.97</td>\n",
       "      <td>81</td>\n",
       "      <td>0</td>\n",
       "      <td>23.06</td>\n",
       "      <td>clear sky</td>\n",
       "    </tr>\n",
       "    <tr>\n",
       "      <th>6</th>\n",
       "      <td>Gunjur</td>\n",
       "      <td>GM</td>\n",
       "      <td>13.20</td>\n",
       "      <td>-16.73</td>\n",
       "      <td>98.67</td>\n",
       "      <td>13</td>\n",
       "      <td>0</td>\n",
       "      <td>4.61</td>\n",
       "      <td>clear sky</td>\n",
       "    </tr>\n",
       "    <tr>\n",
       "      <th>7</th>\n",
       "      <td>Barrow</td>\n",
       "      <td>US</td>\n",
       "      <td>71.29</td>\n",
       "      <td>-156.79</td>\n",
       "      <td>-9.38</td>\n",
       "      <td>84</td>\n",
       "      <td>100</td>\n",
       "      <td>12.66</td>\n",
       "      <td>overcast clouds</td>\n",
       "    </tr>\n",
       "  </tbody>\n",
       "</table>\n",
       "</div>"
      ],
      "text/plain": [
       "              City Country    Lat     Lng  Max Temp  Humidity  Cloudiness  \\\n",
       "0        Saskylakh      RU  71.92  114.08    -28.89        99          41   \n",
       "1        Alyangula      AU -13.85  136.42     80.62        66           5   \n",
       "2  Plettenberg Bay      ZA -34.05   23.37     64.63        89           0   \n",
       "3          Schwedt      DE  53.06   14.28     35.58       100         100   \n",
       "4            Kapaa      US  22.08 -159.32     69.78        77         100   \n",
       "5          Rikitea      PF -23.12 -134.97     79.97        81           0   \n",
       "6           Gunjur      GM  13.20  -16.73     98.67        13           0   \n",
       "7           Barrow      US  71.29 -156.79     -9.38        84         100   \n",
       "\n",
       "   Wind Speed Current Description  \n",
       "0        6.53    scattered clouds  \n",
       "1        9.04           clear sky  \n",
       "2        4.38           clear sky  \n",
       "3        4.14     overcast clouds  \n",
       "4        3.44     overcast clouds  \n",
       "5       23.06           clear sky  \n",
       "6        4.61           clear sky  \n",
       "7       12.66     overcast clouds  "
      ]
     },
     "execution_count": 33,
     "metadata": {},
     "output_type": "execute_result"
    }
   ],
   "source": [
    "# Create a list to reorder the column names as follows:\n",
    "# \"City\", \"Country\", \"Lat\", \"Lng\", \"Max Temp\", \"Humidity\",  \"Cloudiness\", \"Wind Speed\",  \"Current Description\"\n",
    "col_names=[\"City\", \"Country\", \"Lat\", \"Lng\", \"Max Temp\", \"Humidity\",  \"Cloudiness\", \"Wind Speed\",  \"Current Description\"]\n",
    "\n",
    "# Recreate the DataFrame by using the new column order\n",
    "city_data_df_final=city_data_df[col_names]\n",
    "\n",
    "# Display sample data\n",
    "city_data_df_final.head(10)"
   ]
  },
  {
   "cell_type": "code",
   "execution_count": 34,
   "metadata": {},
   "outputs": [
    {
     "data": {
      "text/plain": [
       "City                    object\n",
       "Country                 object\n",
       "Lat                    float64\n",
       "Lng                    float64\n",
       "Max Temp               float64\n",
       "Humidity                 int64\n",
       "Cloudiness               int64\n",
       "Wind Speed             float64\n",
       "Current Description     object\n",
       "dtype: object"
      ]
     },
     "execution_count": 34,
     "metadata": {},
     "output_type": "execute_result"
    }
   ],
   "source": [
    "# Display the data types of each column by using the dtypes Pandas function\n",
    "city_data_df_final.dtypes"
   ]
  },
  {
   "cell_type": "markdown",
   "metadata": {},
   "source": [
    "## Export the DataFrame as a CSV file, and save it as `WeatherPy_Database.csv` in the `Weather_Database` folder."
   ]
  },
  {
   "cell_type": "code",
   "execution_count": 35,
   "metadata": {},
   "outputs": [],
   "source": [
    "# Set the output file name\n",
    "filename='WeatherPy_Database.csv'\n",
    "\n",
    "# Export the city_data DataFrame into a CSV file\n",
    "city_data_df_final.to_csv(filename)"
   ]
  },
  {
   "cell_type": "code",
   "execution_count": null,
   "metadata": {},
   "outputs": [],
   "source": []
  }
 ],
 "metadata": {
  "kernelspec": {
   "display_name": "Python 3 (ipykernel)",
   "language": "python",
   "name": "python3"
  },
  "language_info": {
   "codemirror_mode": {
    "name": "ipython",
    "version": 3
   },
   "file_extension": ".py",
   "mimetype": "text/x-python",
   "name": "python",
   "nbconvert_exporter": "python",
   "pygments_lexer": "ipython3",
   "version": "3.7.13"
  }
 },
 "nbformat": 4,
 "nbformat_minor": 4
}
